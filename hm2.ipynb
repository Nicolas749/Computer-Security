{
 "cells": [
  {
   "cell_type": "code",
   "execution_count": 2,
   "metadata": {},
   "outputs": [],
   "source": [
    "#IMPORTS\n",
    "import numpy as np\n",
    "import math\n",
    "\n"
   ]
  },
  {
   "cell_type": "code",
   "execution_count": 9,
   "metadata": {},
   "outputs": [
    {
     "name": "stdout",
     "output_type": "stream",
     "text": [
      "EXERCISE 1 109.26748332105768\n",
      "EXERCISE 2 156.09640474436813\n",
      "EXERCISE 3  the better option is the second one because it has more entropy\n"
     ]
    }
   ],
   "source": [
    "\n",
    "'''\n",
    "EXERCISE 1\n",
    "Suppose a password is chosen as a concatenation of seven lower-case dictionary words. Each word is selected uniformly at random from a dictionary of size 50,000. \n",
    "An example of such a password is \"mothercathousefivenextcrossroom\". How many bits of entropy does this have?\n",
    "'''\n",
    "# We can get the entropy of this example by using the code below:\n",
    "\n",
    "\n",
    "def calcEntropy(lenghtPassword, alphabet):\n",
    "    ans = lenghtPassword * np.log2(alphabet)\n",
    "    return ans\n",
    "\n",
    "\n",
    "print(\"EXERCISE 1\", calcEntropy(7, 50000))\n",
    "'''\n",
    "Consider an alternative scheme where a password is chosen as a sequence of 10 random alphanumeric characters (including both lower-case and upper-case letters). \n",
    "An example is \"dA3mG67Rrs\". How many bits of entropy does this have?\n",
    "'''\n",
    "\n",
    "\n",
    "print(\"EXERCISE 2\", calcEntropy(10, 50000))\n",
    "\n",
    "\n",
    "print(\"EXERCISE 3 \", \"the better option is the second one because it has more entropy\")\n"
   ]
  },
  {
   "cell_type": "code",
   "execution_count": null,
   "metadata": {},
   "outputs": [],
   "source": [
    "# EXERCISE 2\n",
    "\n",
    "'''\n",
    "Advantages::\n",
    "\n",
    "1. Hash functions are fast and efficient, making them ideal for use in large-scale data processing systems.\n",
    "2. Hash functions are deterministic, meaning that given the same input, they will always produce the same output.\n",
    "\n",
    "Disadvantages:\n",
    "1. Hash functions are not reversible. This means that once you hash a piece of data, you can’t get the original data back from the hash function.\n",
    "2. Hash functions can be vulnerable to collision attacks, where two different inputs produce the same output\n",
    "\n",
    "Design a data verification system using hash functions. Explain the steps involved in the process:\n",
    "Step 1: The sender creates a message and generates a hash value for it by using a hashing algorithm.\n",
    "Step 2: The sender encrypts the hash value with their private key.\n",
    "Step 3: The sender sends the message and the encrypted hash value to the receiver.\n",
    "step 4: The receiver decrypts the hash value using the sender’s public key.\n",
    "step 5: The receiver generates a new hash value from the message they received.\n",
    "step 6: The receiver compares the two hash values. If they are the same, the message is authentic. If they are different, the message is not authentic.\n",
    "step 7: The receiver sends a confirmation message to the sender.\n",
    "step 8: The sender receives the confirmation message and knows that the receiver has received the message.\n",
    "step 9: The sender deletes the message and the hash value.\n",
    "step 10: The receiver deletes the message and the hash value.\n",
    "step 11: The sender and receiver can now communicate securely.\n",
    "\n",
    "\n",
    "3. Provide an example of a real-world application where a data verification system using hash functions is used:\n",
    "    1. Passwords\n",
    "    2. Digital Signatures\n",
    "    3. Blockchain\n",
    "    4. File Integrity Checks\n",
    "\n",
    "\n",
    "\n",
    "'''\n"
   ]
  },
  {
   "cell_type": "markdown",
   "metadata": {},
   "source": [
    "![texto alternativo de la foto](ex2.jpg)"
   ]
  },
  {
   "cell_type": "markdown",
   "metadata": {},
   "source": [
    "![System View](System_02.jpg)"
   ]
  },
  {
   "cell_type": "code",
   "execution_count": null,
   "metadata": {},
   "outputs": [],
   "source": [
    "# EXERCISE 3\n",
    "\n",
    "'''\n",
    "1. Define what a Message Authentication Code (MAC) is and how it is used in cryptography.\n",
    "\n",
    "A fixed-length string and a secret key are generated from the message data to form the MAC. \n",
    "To guarantee that the message has not been altered during transmission and that the sender \n",
    "has been verified, this code can either be sent with the message or separately.\n",
    "\n",
    "2. Explain the process of generating and verifying a MAC.\n",
    "\n",
    "Generating a MAC:\n",
    "\n",
    "A secure channel is established between the sender and the recipient.\n",
    "A widely known MAC algorithm receives the message and a secret key from the sender.\n",
    "By processing the message, the MAC algorithm creates authentication tags with a set length.\n",
    "The message's MAC is the resultant computation.\n",
    "The message is then transmitted to the receiver with the MAC appended.\n",
    "\n",
    "Verifying a MAC:\n",
    "\n",
    "The message and associated MAC are received by the recipient.\n",
    "The same widely known MAC algorithm that the sender used is used by the receiver to process the received message and shared secret key.\n",
    "The MAC value is recalculated by the MAC algorithm.\n",
    "The recipient verifies whether the MAC calculated and sent by the sender match\n",
    "If they match, then the receiver accepts that the message is authentic, legitimate, and not tampered with\n",
    "\n",
    "3. Discuss the importance of using MACs in secure communication systems.\n",
    "Because they verify that messages are coming from the intended recipients, haven't been altered, and are legitimate and free of malicious code, \n",
    "message authentication codes (MACs) are crucial to secure communication systems.\n",
    "\n",
    "\n",
    "'''\n"
   ]
  },
  {
   "cell_type": "code",
   "execution_count": 7,
   "metadata": {},
   "outputs": [
    {
     "name": "stdout",
     "output_type": "stream",
     "text": [
      " public key pair -> [e, n]:  (145, 391)\n",
      "private key pair -> [d, n]: (17, 391)\n",
      "encrypted message c:  226\n",
      "decrypted message m: 90\n",
      "Okay\n"
     ]
    }
   ],
   "source": [
    "#EXERCISE 4\n",
    "\n",
    "def generate_key_pair(p, q, e):\n",
    "    n = p * q\n",
    "    phi = (p - 1) * (q - 1)\n",
    "    \n",
    "    while math.gcd(e, phi) != 1:\n",
    "        e += 2\n",
    "    \n",
    "    d = pow(e, -1, phi)\n",
    "    return (e, n), (d, n)\n",
    "\n",
    "def encrypt(message, public_key):\n",
    "    e, n = public_key\n",
    "    return pow(message, e, n)\n",
    "\n",
    "def decrypt(ciphertext, private_key):\n",
    "    d, n = private_key\n",
    "    return pow(ciphertext, d, n)\n",
    "\n",
    "def main():\n",
    "    p = 17\n",
    "    q = 23\n",
    "    e = 145\n",
    "    m = 90\n",
    "    \n",
    "    public_key, private_key = generate_key_pair(p, q, e)\n",
    "    \n",
    "    print(\" public key pair -> [e, n]: \", public_key)\n",
    "    print(\"private key pair -> [d, n]:\", private_key)\n",
    "    \n",
    "    c = encrypt(m, public_key)\n",
    "    print(\"encrypted message c: \", c)\n",
    "    \n",
    "    m2 = decrypt(c, private_key)\n",
    "    print(\"decrypted message m:\", m2)\n",
    "    \n",
    "    if m2 == m:\n",
    "        print(\"Okay\")\n",
    "    else:\n",
    "        print(\"does not work\")\n",
    "\n",
    "if __name__ == \"__main__\":\n",
    "    main()"
   ]
  },
  {
   "cell_type": "code",
   "execution_count": 5,
   "metadata": {},
   "outputs": [
    {
     "data": {
      "text/plain": [
       "\"\\n1. Design a public key infrastructure (PKI) system. Explain the components and their roles in the system.\\nCertificate Authority: Issues digital certificates and acts as a trusted component within a private PKI. It is responsible for verifying the identity of entities requesting certificates and issuing them.\\nRegistration Authority: Receives certificate signing requests and verifies the identity of an end entity. It is responsible for accepting requests for digital certificates and authenticating the entity making the request.\\nDigital Certificate: A digital document that contains information about the identity of its owner and the public key associated with that identity. It is used to prove the owner of a public key within a PKI\\n\\n\\n2. Discuss the advantages and challenges of implementing a PKI system.\\nAdvantages: \\n    1. PKI ensures that messages are coming from correct senders, have not been changed, and that data transferred over a network or stored in or outside a system is legitimate and does not contain harmful code.\\nChallenge:\\n    1. The cost associated with implementing a PKI system can be significant.\\n    2. The complexity involved in setting up and managing a PKI system can be high\\n3. Provide an example of a real-world application where a PKI system is used.\\n\\nOnline transaction security is one real-world application for PKI systems. For example, your browser uses the SSL/TLS protocol to create an encrypted connection with the merchant's \\nserver when you make an online credit card purchase. \\nTo authenticate itself, the server sends your browser a copy of its digital certificate.\\n\""
      ]
     },
     "execution_count": 5,
     "metadata": {},
     "output_type": "execute_result"
    }
   ],
   "source": [
    "#EXERCISE 5\n",
    "\n",
    "'''\n",
    "1. Design a public key infrastructure (PKI) system. Explain the components and their roles in the system.\n",
    "Certificate Authority: Issues digital certificates and acts as a trusted component within a private PKI. It is responsible for verifying the identity of entities requesting certificates and issuing them.\n",
    "Registration Authority: Receives certificate signing requests and verifies the identity of an end entity. It is responsible for accepting requests for digital certificates and authenticating the entity making the request.\n",
    "Digital Certificate: A digital document that contains information about the identity of its owner and the public key associated with that identity. It is used to prove the owner of a public key within a PKI\n",
    "\n",
    "\n",
    "2. Discuss the advantages and challenges of implementing a PKI system.\n",
    "Advantages: \n",
    "    1. PKI ensures that messages are coming from correct senders, have not been changed, and that data transferred over a network or stored in or outside a system is legitimate and does not contain harmful code.\n",
    "Challenge:\n",
    "    1. The cost associated with implementing a PKI system can be significant.\n",
    "    2. The complexity involved in setting up and managing a PKI system can be high\n",
    "3. Provide an example of a real-world application where a PKI system is used.\n",
    "\n",
    "Online transaction security is one real-world application for PKI systems. For example, your browser uses the SSL/TLS protocol to create an encrypted connection with the merchant's \n",
    "server when you make an online credit card purchase. \n",
    "To authenticate itself, the server sends your browser a copy of its digital certificate.\n",
    "'''"
   ]
  },
  {
   "cell_type": "code",
   "execution_count": null,
   "metadata": {},
   "outputs": [],
   "source": [
    "#EXERCISE 6\n",
    "'''\n",
    "Design a system for digital signatures based on public-key cryptography. Explain the steps involved in the process and the role of each component:\n",
    "1. Key Generation: The sender generates a public and private key pair.\n",
    "2. Signing: The sender signs the message with their private key.\n",
    "3. Verification: The receiver verifies the signature using the sender’s public key.\n",
    "4. Authentication: The receiver authenticates the sender by comparing the signature with the message.\n",
    "\n",
    "Components:\n",
    "1.Private Key: A secret key that is used to sign messages. It is used to sign messages and is kept secret by the sender.\n",
    "2. Public Key: A public key that is used to verify signatures. It is used to verify signatures and is made public by the sender.\n",
    "3. Digital Signature: A digital signature is a mathematical scheme for verifying the authenticity of digital messages or documents. A digital signature is a mathematical scheme for verifying the authenticity of digital messages or documents.\n",
    "4. Message: The message is the data that is being sent from the sender to the receiver. The message is the data that is being sent from the sender to the receiver.\n",
    "5. Mathematical Hash Function: A mathematical hash function is a one-way function that maps data of arbitrary size to a fixed-length string. A mathematical hash function is a one-way function that maps data of arbitrary size to a fixed-length string.\n",
    "'''"
   ]
  },
  {
   "cell_type": "markdown",
   "metadata": {},
   "source": [
    "![Siganture](signature_system.jpg)"
   ]
  }
 ],
 "metadata": {
  "kernelspec": {
   "display_name": "Python 3.11.5 64-bit",
   "language": "python",
   "name": "python3"
  },
  "language_info": {
   "codemirror_mode": {
    "name": "ipython",
    "version": 3
   },
   "file_extension": ".py",
   "mimetype": "text/x-python",
   "name": "python",
   "nbconvert_exporter": "python",
   "pygments_lexer": "ipython3",
   "version": "3.11.5"
  },
  "orig_nbformat": 4,
  "vscode": {
   "interpreter": {
    "hash": "24e204bb5d77a0b46483d94efe4b4db5d97a985e2be6911fad4136740c833288"
   }
  }
 },
 "nbformat": 4,
 "nbformat_minor": 2
}
